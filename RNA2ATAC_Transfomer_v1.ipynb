{
 "cells": [
  {
   "cell_type": "markdown",
   "metadata": {},
   "source": [
    "### Data Sourcing and Processing"
   ]
  },
  {
   "cell_type": "code",
   "execution_count": null,
   "metadata": {},
   "outputs": [],
   "source": [
    "import muon as mu\n",
    "import scanpy as sc\n",
    "import numpy as np\n",
    "import pandas as pd\n",
    "import torch\n",
    "import random\n",
    "#import itertools"
   ]
  },
  {
   "cell_type": "code",
   "execution_count": null,
   "metadata": {},
   "outputs": [],
   "source": [
    "PATHWAY = \"/media/data/single_cell/brent10070/side_project/SHARE_seq/datasets\"\n",
    "Train_pathway = PATHWAY + \"/Train.h5mu\"\n",
    "\n",
    "Train_Data_Load = mu.read(Train_pathway)"
   ]
  },
  {
   "cell_type": "code",
   "execution_count": null,
   "metadata": {},
   "outputs": [],
   "source": [
    "Train_Data_Load"
   ]
  },
  {
   "cell_type": "code",
   "execution_count": null,
   "metadata": {},
   "outputs": [],
   "source": [
    "Train_neighbor_pathway = PATHWAY + \"/Train_neighbor.csv\"\n",
    "Train_Neighbor_df = pd.read_csv(Train_neighbor_pathway, index_col=0)\n",
    "\n",
    "Validation_neighbor_pathway = PATHWAY + \"/Validation_neighbor.csv\"\n",
    "Validation_Neighbor_df = pd.read_csv(Validation_neighbor_pathway, index_col=0)"
   ]
  },
  {
   "cell_type": "code",
   "execution_count": null,
   "metadata": {},
   "outputs": [],
   "source": [
    "def batch_index(sample_index, BATCH_SIZE):\n",
    "    def grouper(iterable, n, *, fillvalue=None):\n",
    "        args = [iter(iterable)] * n\n",
    "        return zip(*args)\n",
    "    batch_index = list(grouper(random.sample(list(sample_index), len(sample_index)), BATCH_SIZE))\n",
    "    batch_index = [list(x) for x in batch_index]\n",
    "    return batch_index"
   ]
  },
  {
   "cell_type": "code",
   "execution_count": null,
   "metadata": {},
   "outputs": [],
   "source": [
    "def sample_idx_transform(knn_df, Neighbor_df):\n",
    "    def ind(x):\n",
    "        return np.array(list(Neighbor_df.index))[x].tolist()\n",
    "\n",
    "    knn_df[knn_df.columns] = knn_df[knn_df.columns].apply(ind)\n",
    "    knn_df = knn_df.rename_axis('Neigh_0').reset_index()\n",
    "    return knn_df\n",
    "\n",
    "def get_expn_tensor(knn_df, Data, modal, BATCH_SIZE):\n",
    "    T = torch.tensor(sc.get.var_df(Data.mod[modal], keys=knn_df.values.flatten().tolist()).values)\n",
    "    T = T.reshape(T.size()[0], BATCH_SIZE, 32)\n",
    "    return T"
   ]
  },
  {
   "cell_type": "code",
   "execution_count": null,
   "metadata": {},
   "outputs": [],
   "source": [
    "BATCH_SIZE = 32\n",
    "Train_batch_index = batch_index(Train_Neighbor_df.index, BATCH_SIZE)\n",
    "KNNdf = Train_Neighbor_df.loc[Train_batch_index[2]]\n",
    "KNNdf = sample_idx_transform(KNNdf, Train_Neighbor_df)"
   ]
  },
  {
   "cell_type": "code",
   "execution_count": null,
   "metadata": {},
   "outputs": [],
   "source": [
    "tgt = get_expn_tensor(KNNdf, Train_Data_Load, 'ATAC', BATCH_SIZE)"
   ]
  },
  {
   "cell_type": "code",
   "execution_count": null,
   "metadata": {},
   "outputs": [],
   "source": [
    "sys.getsizeof(tgt.double().storage())"
   ]
  },
  {
   "cell_type": "markdown",
   "metadata": {},
   "source": [
    "### Seq2Seq Network using Transformer"
   ]
  },
  {
   "cell_type": "code",
   "execution_count": null,
   "metadata": {},
   "outputs": [],
   "source": [
    "from torch import Tensor\n",
    "import torch\n",
    "import torch.nn as nn\n",
    "from torch.nn import Transformer\n",
    "DEVICE = torch.device('cuda' if torch.cuda.is_available() else 'cpu')\n",
    "\n",
    "# Seq2Seq Network\n",
    "class Seq2SeqTransformer(nn.Module):\n",
    "    def __init__(self,\n",
    "                 num_encoder_layers: int,\n",
    "                 num_decoder_layers: int,\n",
    "                 emb_size: int,\n",
    "                 nhead: int,\n",
    "                 src_vocab_size: int,\n",
    "                 tgt_vocab_size: int,\n",
    "                 dim_feedforward: int = 512,\n",
    "                 dropout: float = 0.1):\n",
    "        super(Seq2SeqTransformer, self).__init__()\n",
    "        self.transformer = Transformer(d_model=emb_size,\n",
    "                                       nhead=nhead,\n",
    "                                       num_encoder_layers=num_encoder_layers,\n",
    "                                       num_decoder_layers=num_decoder_layers,\n",
    "                                       dim_feedforward=dim_feedforward,\n",
    "                                       dropout=dropout)\n",
    "\n",
    "    def forward(self,\n",
    "                src: Tensor,\n",
    "                tgt: Tensor): #Remove the masks\n",
    "        outs = self.transformer(src, tgt) #Remove the masks\n",
    "        return outs\n",
    "\n",
    "    def encode(self, src: Tensor):\n",
    "        return self.transformer.encoder(src) #Remove the masks\n",
    "\n",
    "    def decode(self, tgt: Tensor, memory: Tensor):\n",
    "        return self.transformer.decoder(tgt, memory) #Remove the masks"
   ]
  },
  {
   "cell_type": "code",
   "execution_count": null,
   "metadata": {},
   "outputs": [],
   "source": [
    "torch.manual_seed(0)\n",
    "\n",
    "SRC_VOCAB_SIZE = Train_Data_Load.mod['RNA'].n_vars\n",
    "TGT_VOCAB_SIZE = Train_Data_Load.mod['ATAC'].n_vars\n",
    "EMB_SIZE = 32 # 1 + KNN31 = 32\n",
    "NHEAD = 8\n",
    "FFN_HID_DIM = 512\n",
    "BATCH_SIZE = 1\n",
    "NUM_ENCODER_LAYERS = 3\n",
    "NUM_DECODER_LAYERS = 3\n",
    "\n",
    "transformer = Seq2SeqTransformer(NUM_ENCODER_LAYERS, NUM_DECODER_LAYERS, EMB_SIZE,\n",
    "                                 NHEAD, SRC_VOCAB_SIZE, TGT_VOCAB_SIZE, FFN_HID_DIM)\n",
    "\n",
    "for p in transformer.parameters():\n",
    "    if p.dim() > 1:\n",
    "        nn.init.xavier_uniform_(p)\n",
    "\n",
    "transformer = transformer.to(DEVICE)\n",
    "\n",
    "loss_fn = torch.nn.BCELoss()\n",
    "\n",
    "optimizer = torch.optim.Adam(transformer.parameters(), lr=0.0001, betas=(0.9, 0.98), eps=1e-9)"
   ]
  },
  {
   "cell_type": "code",
   "execution_count": null,
   "metadata": {},
   "outputs": [],
   "source": [
    "def get_n_params(model):\n",
    "    pp=0\n",
    "    for p in list(model.parameters()):\n",
    "        nn=1\n",
    "        for s in list(p.size()):\n",
    "            nn = nn*s\n",
    "        pp += nn\n",
    "    return pp\n",
    "\n",
    "get_n_params(transformer)"
   ]
  },
  {
   "cell_type": "code",
   "execution_count": null,
   "metadata": {},
   "outputs": [],
   "source": [
    "def train_epoch(model, optimizer, Train_batch_index):\n",
    "    model.train()\n",
    "    losses = 0\n",
    "\n",
    "    for n in range(len(Train_batch_index)):\n",
    "        KNNdf = Train_Neighbor_df.loc[Train_batch_index[n]]\n",
    "        KNNdf = sample_idx_transform(KNNdf, Train_Neighbor_df)\n",
    "        src = get_expn_tensor(KNNdf, Train_Data_Load, 'RNA', BATCH_SIZE)\n",
    "        tgt = get_expn_tensor(KNNdf, Train_Data_Load, 'ATAC', BATCH_SIZE)\n",
    "\n",
    "        src = src.to(DEVICE)\n",
    "        tgt = tgt.to(DEVICE)\n",
    "\n",
    "        output = model(src, tgt)\n",
    "\n",
    "        optimizer.zero_grad()\n",
    "\n",
    "        loss = loss_fn(output, tgt)\n",
    "        loss.backward()\n",
    "\n",
    "        optimizer.step()\n",
    "        losses += loss.item()\n",
    "\n",
    "    return losses / len(Train_batch_index) * BATCH_SIZE\n",
    "\n",
    "\n",
    "def evaluate(model, Validation_batch_index):\n",
    "    model.eval()\n",
    "    losses = 0\n",
    "\n",
    "    for n in range(len(Validation_batch_index)):\n",
    "        KNNdf = Validation_Neighbor_df.loc[Validation_batch_index[n]]\n",
    "        KNNdf = sample_idx_transform(KNNdf, Validation_Neighbor_df)\n",
    "        src = get_expn_tensor(KNNdf, Validation_Data_Load, 'RNA')\n",
    "        tgt = get_expn_tensor(KNNdf, Validation_Data_Load, 'ATAC')\n",
    "\n",
    "        src = src.to(DEVICE)\n",
    "        tgt = tgt.to(DEVICE)\n",
    "\n",
    "        output = model(src, tgt)\n",
    "\n",
    "        optimizer.zero_grad()\n",
    "\n",
    "        loss = loss_fn(output, tgt)\n",
    "        losses += loss.item()\n",
    "\n",
    "    return losses / len(Validation_batch_index) * BATCH_SIZE"
   ]
  },
  {
   "cell_type": "code",
   "execution_count": null,
   "metadata": {},
   "outputs": [],
   "source": [
    "from timeit import default_timer as timer\n",
    "NUM_EPOCHS = 1\n",
    "\n",
    "for epoch in range(1, NUM_EPOCHS+1):\n",
    "    \n",
    "    start_time = timer()\n",
    "    Train_batch_index = batch_index(Train_Neighbor_df.index, BATCH_SIZE)\n",
    "    train_loss = train_epoch(transformer, optimizer, Train_batch_index)\n",
    "    end_time = timer()\n",
    "\n",
    "    #Validation_batch_index = batch_index(Validation_Neighbor_df.index, BATCH_SIZE)\n",
    "    #val_loss = evaluate(transformer, Validation_batch_index)\n",
    "    #print((f\"Epoch: {epoch}, Train loss: {train_loss:.3f}, Val loss: {val_loss:.3f}, \"f\"Epoch time = {(end_time - start_time):.3f}s\"))\n",
    "    \n",
    "    print((f\"Epoch: {epoch}, Train loss: {train_loss:.3f}, \"f\"Epoch time = {(end_time - start_time):.3f}s\"))"
   ]
  },
  {
   "cell_type": "code",
   "execution_count": null,
   "metadata": {},
   "outputs": [],
   "source": [
    "# function to generate output sequence using greedy algorithm\n",
    "def greedy_decode(model, src, src_mask, max_len, start_symbol):\n",
    "    src = src.to(DEVICE)\n",
    "    src_mask = src_mask.to(DEVICE)\n",
    "\n",
    "    memory = model.encode(src, src_mask)\n",
    "    ys = torch.ones(1, 1).fill_(start_symbol).type(torch.long).to(DEVICE)\n",
    "    for i in range(max_len-1):\n",
    "        memory = memory.to(DEVICE)\n",
    "        tgt_mask = (generate_square_subsequent_mask(ys.size(0))\n",
    "                    .type(torch.bool)).to(DEVICE)\n",
    "        out = model.decode(ys, memory, tgt_mask)\n",
    "        out = out.transpose(0, 1)\n",
    "        prob = model.generator(out[:, -1])\n",
    "        _, next_word = torch.max(prob, dim=1)\n",
    "        next_word = next_word.item()\n",
    "\n",
    "        ys = torch.cat([ys,\n",
    "                        torch.ones(1, 1).type_as(src.data).fill_(next_word)], dim=0)\n",
    "        if next_word == EOS_IDX:\n",
    "            break\n",
    "    return ys\n",
    "\n",
    "\n",
    "# actual function to translate input sentence into target language\n",
    "def translate(model: torch.nn.Module, src_sentence: str):\n",
    "    model.eval()\n",
    "    src = text_transform[SRC_LANGUAGE](src_sentence).view(-1, 1)\n",
    "    num_tokens = src.shape[0]\n",
    "    src_mask = (torch.zeros(num_tokens, num_tokens)).type(torch.bool)\n",
    "    tgt_tokens = greedy_decode(\n",
    "        model,  src, src_mask, max_len=num_tokens + 5, start_symbol=BOS_IDX).flatten()\n",
    "    return \" \".join(vocab_transform[TGT_LANGUAGE].lookup_tokens(list(tgt_tokens.cpu().numpy()))).replace(\"<bos>\", \"\").replace(\"<eos>\", \"\")"
   ]
  }
 ],
 "metadata": {
  "kernelspec": {
   "display_name": "Python 3.9.16 ('Transformer')",
   "language": "python",
   "name": "python3"
  },
  "language_info": {
   "codemirror_mode": {
    "name": "ipython",
    "version": 3
   },
   "file_extension": ".py",
   "mimetype": "text/x-python",
   "name": "python",
   "nbconvert_exporter": "python",
   "pygments_lexer": "ipython3",
   "version": "3.9.16"
  },
  "orig_nbformat": 4,
  "vscode": {
   "interpreter": {
    "hash": "7f8a1496daa3860745f66be235603c97eaa0abf4a1b2af215445a7be751e64ce"
   }
  }
 },
 "nbformat": 4,
 "nbformat_minor": 2
}

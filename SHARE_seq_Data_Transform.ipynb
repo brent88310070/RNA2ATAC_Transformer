{
 "cells": [
  {
   "cell_type": "code",
   "execution_count": null,
   "metadata": {},
   "outputs": [],
   "source": [
    "import numpy as np\n",
    "import pandas as pd\n",
    "from sklearn.model_selection import train_test_split\n",
    "import scanpy as sc\n",
    "from muon import MuData\n",
    "import muon as mu"
   ]
  },
  {
   "cell_type": "markdown",
   "metadata": {},
   "source": [
    "### Read Data"
   ]
  },
  {
   "cell_type": "code",
   "execution_count": null,
   "metadata": {},
   "outputs": [],
   "source": [
    "DataPathway = \"\""
   ]
  },
  {
   "cell_type": "code",
   "execution_count": null,
   "metadata": {},
   "outputs": [],
   "source": [
    "filePathway = \"%sshare.h5mu\" %DataPathway\n",
    "mdata = mu.read(filePathway)"
   ]
  },
  {
   "cell_type": "code",
   "execution_count": null,
   "metadata": {},
   "outputs": [],
   "source": [
    "mdata"
   ]
  },
  {
   "cell_type": "markdown",
   "metadata": {},
   "source": [
    "### Split Datasets"
   ]
  },
  {
   "cell_type": "markdown",
   "metadata": {},
   "source": [
    "##### Train : Validation : Test = 70% : 10% : 20%"
   ]
  },
  {
   "cell_type": "code",
   "execution_count": null,
   "metadata": {},
   "outputs": [],
   "source": [
    "Train_Validation_barcode, Test_barcode =  train_test_split(mdata.obs_names, test_size =.20, shuffle  = True) \n",
    "Train_barcode, Validation_barcode =  train_test_split(Train_Validation_barcode, test_size =.125, shuffle  = True) \n",
    "len(Train_barcode), len(Validation_barcode), len(Test_barcode)"
   ]
  },
  {
   "cell_type": "code",
   "execution_count": null,
   "metadata": {},
   "outputs": [],
   "source": [
    "Train = mdata[Train_barcode]\n",
    "Validation = mdata[Validation_barcode]\n",
    "Test = mdata[Test_barcode]"
   ]
  },
  {
   "cell_type": "markdown",
   "metadata": {},
   "source": [
    "## Train"
   ]
  },
  {
   "cell_type": "markdown",
   "metadata": {},
   "source": [
    "### PCA for scRNA-seq and Get the 30 Neighbors"
   ]
  },
  {
   "cell_type": "code",
   "execution_count": null,
   "metadata": {},
   "outputs": [],
   "source": [
    "sc.tl.pca(Train.mod['RNA'])\n",
    "sc.pp.neighbors(Train.mod['RNA'], n_neighbors=31, n_pcs=30)\n",
    "Train.mod['RNA']"
   ]
  },
  {
   "cell_type": "code",
   "execution_count": null,
   "metadata": {},
   "outputs": [],
   "source": [
    "Distance_index = Train.mod['RNA'].obsp['distances'].toarray().argsort(axis=1)[:, -30:]\n",
    "col_names = [\"Neigh_{}\".format(i) for i in range(1, 31)]\n",
    "Train_knn_neighbor = pd.DataFrame(Distance_index, columns=col_names)\n",
    "Train_knn_neighbor.index = [Train.mod['RNA'].obs_names]\n",
    "Train_knn_neighbor"
   ]
  },
  {
   "cell_type": "markdown",
   "metadata": {},
   "source": [
    "### Get 30 neighbors expression values of the cell"
   ]
  },
  {
   "cell_type": "code",
   "execution_count": null,
   "metadata": {},
   "outputs": [],
   "source": [
    "sc.get.var_df(Train.mod['RNA'], keys=Train.mod['RNA'].obs_names[Train_knn_neighbor.iloc[6]].tolist())"
   ]
  },
  {
   "cell_type": "markdown",
   "metadata": {},
   "source": [
    "## Test"
   ]
  },
  {
   "cell_type": "code",
   "execution_count": null,
   "metadata": {},
   "outputs": [],
   "source": [
    "sc.tl.pca(Test.mod['RNA'])\n",
    "sc.pp.neighbors(Test.mod['RNA'], n_neighbors=31, n_pcs=30)\n",
    "Test.mod['RNA']"
   ]
  },
  {
   "cell_type": "code",
   "execution_count": null,
   "metadata": {},
   "outputs": [],
   "source": [
    "Distance_index = Test.mod['RNA'].obsp['distances'].toarray().argsort(axis=1)[:, -30:]\n",
    "col_names = [\"Neigh_{}\".format(i) for i in range(1, 31)]\n",
    "Test_knn_neighbor = pd.DataFrame(Distance_index, columns=col_names)\n",
    "Test_knn_neighbor.index = [Test.mod['RNA'].obs_names]"
   ]
  },
  {
   "cell_type": "markdown",
   "metadata": {},
   "source": [
    "## Validation"
   ]
  },
  {
   "cell_type": "code",
   "execution_count": null,
   "metadata": {},
   "outputs": [],
   "source": [
    "sc.tl.pca(Validation.mod['RNA'])\n",
    "sc.pp.neighbors(Validation.mod['RNA'], n_neighbors=31, n_pcs=30)\n",
    "Validation.mod['RNA']"
   ]
  },
  {
   "cell_type": "code",
   "execution_count": null,
   "metadata": {},
   "outputs": [],
   "source": [
    "Distance_index = Validation.mod['RNA'].obsp['distances'].toarray().argsort(axis=1)[:, -30:]\n",
    "col_names = [\"Neigh_{}\".format(i) for i in range(1, 31)]\n",
    "Validation_knn_neighbor = pd.DataFrame(Distance_index, columns=col_names)\n",
    "Validation_knn_neighbor.index = [Validation.mod['RNA'].obs_names]"
   ]
  },
  {
   "cell_type": "markdown",
   "metadata": {},
   "source": [
    "### Save object"
   ]
  },
  {
   "cell_type": "code",
   "execution_count": null,
   "metadata": {},
   "outputs": [],
   "source": [
    "Train.write(\"%sdatasets/Train.h5mu\"%DataPathway)\n",
    "Test.write(\"%sdatasets/Test.h5mu\"%DataPathway)\n",
    "Validation.write(\"%sdatasets/Validation.h5mu\"%DataPathway)"
   ]
  },
  {
   "cell_type": "markdown",
   "metadata": {},
   "source": [
    "### Save Neighbor Table"
   ]
  },
  {
   "cell_type": "code",
   "execution_count": null,
   "metadata": {},
   "outputs": [],
   "source": [
    "Train_knn_neighbor.to_csv(\"%sdatasets/Train_neighbor.csv\"%DataPathway, index=True)\n",
    "Test_knn_neighbor.to_csv(\"%sdatasets/Test_neighbor.csv\"%DataPathway, index=True)\n",
    "Validation_knn_neighbor.to_csv(\"%sdatasets/Validation_neighbor.csv\"%DataPathway, index=True)"
   ]
  }
 ],
 "metadata": {
  "kernelspec": {
   "display_name": "Python 3.9.16 ('Transformer')",
   "language": "python",
   "name": "python3"
  },
  "language_info": {
   "codemirror_mode": {
    "name": "ipython",
    "version": 3
   },
   "file_extension": ".py",
   "mimetype": "text/x-python",
   "name": "python",
   "nbconvert_exporter": "python",
   "pygments_lexer": "ipython3",
   "version": "3.9.16"
  },
  "orig_nbformat": 4,
  "vscode": {
   "interpreter": {
    "hash": "7f8a1496daa3860745f66be235603c97eaa0abf4a1b2af215445a7be751e64ce"
   }
  }
 },
 "nbformat": 4,
 "nbformat_minor": 2
}
